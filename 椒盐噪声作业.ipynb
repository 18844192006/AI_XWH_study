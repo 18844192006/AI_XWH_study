{
 "cells": [
  {
   "cell_type": "code",
   "execution_count": 12,
   "id": "f71f1d57-c77f-415c-8dd1-6d709877e4a1",
   "metadata": {},
   "outputs": [
    {
     "data": {
      "text/plain": [
       "-1"
      ]
     },
     "execution_count": 12,
     "metadata": {},
     "output_type": "execute_result"
    }
   ],
   "source": [
    "# 椒盐噪声：随机出现的白点或者黑点\n",
    "# 椒噪声（pepper noise,0）+ 盐噪声（salt noise,255）\n",
    "import cv2\n",
    "import random\n",
    "import numpy\n",
    "from numpy import shape\n",
    "# src:图片； percentage:要加噪声的像素百分比\n",
    "# 定义椒盐噪声函数：输入参数\n",
    "def Pep_Salt(src,percentage):\n",
    "    NoiseImg = src\n",
    "    # 计算加噪音的像素点数\n",
    "    NoiseNum = int(src.shape[0]*src.shape[1]*percentage)\n",
    "    for i in range(NoiseNum):\n",
    "        #随机选取要加噪音的像素点，randX为行，randY为Y\n",
    "        randX = random.randint(0,src.shape[0]-1)\n",
    "        randY = random.randint(0,src.shape[1]-1)\n",
    "       # 生成随机数，小于0.5时，噪音设为0；大于0.5时，噪音设为255\n",
    "        if random.random() <= 0.5:\n",
    "            NoiseImg[randX,randY] = 0\n",
    "        else:\n",
    "            NoiseImg[randX,randY] = 255\n",
    "    return NoiseImg\n",
    "\n",
    "# 读取一张灰度图片\n",
    "img = cv2.imread('lenna.png',0)\n",
    "# 返回添加椒盐噪声的图像\n",
    "img1 = Pep_Salt(img,0.3)\n",
    "\n",
    "# 读取一张彩色图片\n",
    "img = cv2.imread('lenna.png')\n",
    "# # 将 彩色图片转换为灰度图片\n",
    "img2 = cv2.cvtColor(img,cv2.COLOR_BGR2GRAY)\n",
    "\n",
    "cv2.imshow('source1',img2)\n",
    "cv2.imshow('lenna_GaussianNoise',img1)\n",
    "cv2.waitKey(0)            "
   ]
  },
  {
   "cell_type": "code",
   "execution_count": null,
   "id": "79250633-f551-4b84-b570-6495b3779c57",
   "metadata": {},
   "outputs": [],
   "source": []
  }
 ],
 "metadata": {
  "kernelspec": {
   "display_name": "Python 3 (ipykernel)",
   "language": "python",
   "name": "python3"
  },
  "language_info": {
   "codemirror_mode": {
    "name": "ipython",
    "version": 3
   },
   "file_extension": ".py",
   "mimetype": "text/x-python",
   "name": "python",
   "nbconvert_exporter": "python",
   "pygments_lexer": "ipython3",
   "version": "3.12.4"
  }
 },
 "nbformat": 4,
 "nbformat_minor": 5
}
