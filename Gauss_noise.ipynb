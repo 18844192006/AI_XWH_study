{
 "cells": [
  {
   "cell_type": "code",
   "execution_count": 11,
   "id": "968fb8fe-ee25-4e5b-9b98-5141381454c1",
   "metadata": {},
   "outputs": [
    {
     "name": "stdout",
     "output_type": "stream",
     "text": [
      "(512, 512) 512 512\n"
     ]
    },
    {
     "data": {
      "text/plain": [
       "-1"
      ]
     },
     "execution_count": 11,
     "metadata": {},
     "output_type": "execute_result"
    }
   ],
   "source": [
    "# 高斯噪声，给一副图像加上高斯噪声顺序\n",
    "import cv2\n",
    "import numpy as np\n",
    "from numpy import shape\n",
    "import random\n",
    "# src:图片；-   means和sigma:高斯分布参数；   percentage:要加噪声的像素百分比\n",
    "# 1、输入参数sigma、和mean\n",
    "def GaussianNoise(src,means,sigma,percentage):\n",
    "    NoiseImg = src\n",
    "    print(src.shape,src.shape[0],src.shape[1])\n",
    "    NoiseNum = int(percentage*src.shape[0]*src.shape[1])\n",
    "    for i in range(NoiseNum):\n",
    "        # 每次随机取一个点\n",
    "        # 把一张图片的像素用行和列表示，randX表示随机生成的行值，randY表示随机生成的列值\n",
    "        randX = random.randint(0,src.shape[0]-1) #左右均包含在随机范围内\n",
    "        randY = random.randint(0,src.shape[1]-1)\n",
    "       \n",
    "        # 2、生成高斯随机数\n",
    "        gauss_random=random.gauss(means,sigma)\n",
    "        \n",
    "        # 3、根据输入像素计算出输出像素,在原有像素灰度值上加随机数\n",
    "        NoiseImg[randX,randY] = NoiseImg[randX,randY]+gauss_random\n",
    "        \n",
    "        # 4、重新将像素值放缩在【0-255】之间\n",
    "        # 若灰度值小于0,则强制为0；若灰度值大于255,则强制为255\n",
    "        if NoiseImg[randX,randY] < 0:\n",
    "            NoiseImg[randX,randY] = 0\n",
    "        elif NoiseImg[randX,randY] >255:\n",
    "            NoiseImg[randX,randY] = 255\n",
    "        # 5、循环所有像素\n",
    "    \n",
    "    # 6、输出图像\n",
    "    return NoiseImg\n",
    "\n",
    "# cv2.imread(filename, flags)\n",
    "# 参数：\n",
    "# filepath：读入img的完整路径\n",
    "# flags：标志位，{cv2.IMREAD_COLOR，cv2.IMREAD_GRAYSCALE，cv2.IMREAD_UNCHANGED}\n",
    "# cv2.IMREAD_COLOR：默认参数，读入一副彩色图片，忽略alpha通道，可用1作为实参替代\n",
    "# cv2.IMREAD_GRAYSCALE：读入灰度图片，可用0作为实参替代\n",
    "# cv2.IMREAD_UNCHANGED：顾名思义，读入完整图片，包括alpha通道，可用-1作为实参替代\n",
    "# 读取一张灰度图片\n",
    "img = cv2.imread('lenna.png',0)\n",
    "# print(img)\n",
    "# print(\"------\")\n",
    "cv2.imshow('source',img)\n",
    "# 返回添加高斯噪声的图像\n",
    "img1 = GaussianNoise(img,2,3,0.8)\n",
    "# 读取一张彩色图片\n",
    "# img = cv2.imread('lenna.png')\n",
    "# # 将 彩色图片转换为灰度图片\n",
    "# img2 = cv2.cvtColor(img,cv2.COLOR_BGR2GRAY)\n",
    "# cv2.imshow('source1',img)\n",
    "# print(img)\n",
    "cv2.imshow('lenna_GaussianNoise',img1)\n",
    "cv2.waitKey(0)"
   ]
  },
  {
   "cell_type": "code",
   "execution_count": null,
   "id": "4fa3383f-ba64-4c6e-9547-dcc4b4dd23c2",
   "metadata": {},
   "outputs": [],
   "source": []
  }
 ],
 "metadata": {
  "kernelspec": {
   "display_name": "Python 3 (ipykernel)",
   "language": "python",
   "name": "python3"
  },
  "language_info": {
   "codemirror_mode": {
    "name": "ipython",
    "version": 3
   },
   "file_extension": ".py",
   "mimetype": "text/x-python",
   "name": "python",
   "nbconvert_exporter": "python",
   "pygments_lexer": "ipython3",
   "version": "3.12.4"
  }
 },
 "nbformat": 4,
 "nbformat_minor": 5
}
