{
 "cells": [
  {
   "cell_type": "code",
   "execution_count": 10,
   "id": "7441bde5-cb9c-4826-adc9-2825995430ab",
   "metadata": {},
   "outputs": [
    {
     "data": {
      "text/plain": [
       "-1"
      ]
     },
     "execution_count": 10,
     "metadata": {},
     "output_type": "execute_result"
    }
   ],
   "source": [
    "import cv2\n",
    "import numpy as np\n",
    "from PIL import Image\n",
    "from skimage import util\n",
    "\n",
    "'''\n",
    "函数：为浮点型图片添加各种噪声\n",
    "参数：\n",
    "image:输入图片（将会被转换成浮点型），ndarray型\n",
    "mode:可选择 str型，表示要添加噪声的类型\n",
    " gaussian：高斯噪声\n",
    " localvar：高斯分布的加性噪声，在图像的每个点处具有制定的局部方差\n",
    " poisson：泊松噪声\n",
    " salt：盐噪声，随机将像素值变为1\n",
    " pepper：椒噪声，速记将像素值变为0或-1，取决于矩阵的值是否带符号\n",
    " s&p：椒盐噪声\n",
    " speckle：均匀噪声（均值mean方差variance），out=image+n*image\n",
    "seed：可选地，int型，如果选择的话，在生成噪声之前会先设置随机种子以避免伪随机\n",
    "clip：可选的，bool型，如果是True，在添加均值，泊松以及高斯噪声后，会将图片的数据裁剪到合适范围内。如果是False，则输出矩阵的值可能会超出[-1,1]\n",
    "mean：可选的，float型，高斯噪声和均值噪声中的mean参数，默认值=0\n",
    "var：可选的，float型，高斯噪声和均值噪声中的方差，默认值=0.01（注：不是标准差）\n",
    "local_vars：可选的，ndarry型，用于定义每个像素点的局部方差，在localvar中使用\n",
    "amount：可选的，float型，是椒盐噪声所占比例，默认值=0.05\n",
    "salt_vs_pepper：可选的，float型，椒盐噪声中椒盐比例，值越大表示盐噪声越多，默认值=0.5，即椒盐等量\n",
    "--------\n",
    "返回值：ndarry型，且值在[0,1]或者[-1,1]之间，取决于是否是有符号数\n",
    "def random_noise(image,mode='gaussian',seed = None,clip=True,**kargs):\n",
    "'''\n",
    "\n",
    "img = cv2.imread(\"lenna.png\")\n",
    "# img1 = util.random_noise(img,mode='poisson')\n",
    "img1 = util.random_noise(img,mode = 'Gaussian',mean=0.0)\n",
    "cv2.imshow('source',img)\n",
    "cv2.imshow('target',img1)\n",
    "cv2.waitKey(0)\n"
   ]
  },
  {
   "cell_type": "code",
   "execution_count": null,
   "id": "74b6d91b-dbc1-4c13-b6ff-0a1d73f4fcb8",
   "metadata": {},
   "outputs": [],
   "source": []
  }
 ],
 "metadata": {
  "kernelspec": {
   "display_name": "Python 3 (ipykernel)",
   "language": "python",
   "name": "python3"
  },
  "language_info": {
   "codemirror_mode": {
    "name": "ipython",
    "version": 3
   },
   "file_extension": ".py",
   "mimetype": "text/x-python",
   "name": "python",
   "nbconvert_exporter": "python",
   "pygments_lexer": "ipython3",
   "version": "3.12.4"
  }
 },
 "nbformat": 4,
 "nbformat_minor": 5
}
